{
 "cells": [
  {
   "cell_type": "markdown",
   "metadata": {},
   "source": [
    "# Health Stats Part 3: Waist 2 Hip Ratios"
   ]
  },
  {
   "cell_type": "markdown",
   "metadata": {},
   "source": [
    "<!--- Write an explanation of the Waist To Hips Ratio statistic used by health professionals. Please include an explanation of what it is used for, exactly how it is calculated, and how to interpret the results. Note: Formmatting matters. Make this as professional as you can using Markdown.  --->\n",
    "EDIT THIS MARKDOWN CELL"
   ]
  },
  {
   "cell_type": "markdown",
   "metadata": {},
   "source": [
    "## Source Data "
   ]
  },
  {
   "cell_type": "markdown",
   "metadata": {},
   "source": [
    "<!--- Replace the text below with a Markdown bullet list that defines the columns of the CSV file. Be sure to indicate the data type for each column. --->\n",
    "EDIT THIS MARKDOWN CELL"
   ]
  },
  {
   "cell_type": "markdown",
   "metadata": {},
   "source": [
    "## Data Import"
   ]
  },
  {
   "cell_type": "code",
   "execution_count": 47,
   "metadata": {
    "scrolled": false
   },
   "outputs": [
    {
     "data": {
      "text/plain": [
       "array([( 1,  30.,  32., 'M'), ( 2,  32.,  37., 'M'), ( 3,  30.,  36., 'M'),\n",
       "       ( 4,  33.,  39., 'M'), ( 5,  29.,  33., 'M'), ( 6,  32.,  38., 'M'),\n",
       "       ( 7,  33.,  42., 'M'), ( 8,  30.,  40., 'M'), ( 9,  30.,  37., 'M'),\n",
       "       (10,  32.,  39., 'M'), (11,  24.,  35., 'F'), (12,  25.,  37., 'F'),\n",
       "       (13,  24.,  37., 'F'), (14,  22.,  34., 'F'), (15,  26.,  38., 'F'),\n",
       "       (16,  26.,  37., 'F'), (17,  25.,  38., 'F'), (18,  26.,  37., 'F'),\n",
       "       (19,  28.,  40., 'F'), (20,  23.,  35., 'F')], \n",
       "      dtype=[('ID', '<i4'), ('Waist', '<f8'), ('Hip', '<f8'), ('Gender', '<U5')])"
      ]
     },
     "execution_count": 47,
     "metadata": {},
     "output_type": "execute_result"
    }
   ],
   "source": [
    "# Goal: Extract the data from the file\n",
    "import numpy as np\n",
    "rows=np.genfromtxt('w2h_data.csv',delimiter=',',dtype=(int,float,float,\"U5\"),names=True)\n",
    "rows\n"
   ]
  },
  {
   "cell_type": "code",
   "execution_count": null,
   "metadata": {
    "collapsed": true
   },
   "outputs": [],
   "source": [
    "\n"
   ]
  },
  {
   "cell_type": "markdown",
   "metadata": {},
   "source": [
    "## Calculations"
   ]
  },
  {
   "cell_type": "code",
   "execution_count": 50,
   "metadata": {},
   "outputs": [
    {
     "data": {
      "text/plain": [
       "array([( 1,  30.,  32., 'M',  0.9375    , 'Apple'),\n",
       "       ( 2,  32.,  37., 'M',  0.86486486, 'pear'),\n",
       "       ( 3,  30.,  36., 'M',  0.83333333, 'pear'),\n",
       "       ( 4,  33.,  39., 'M',  0.84615385, 'pear'),\n",
       "       ( 5,  29.,  33., 'M',  0.87878788, 'pear'),\n",
       "       ( 6,  32.,  38., 'M',  0.84210526, 'pear'),\n",
       "       ( 7,  33.,  42., 'M',  0.78571429, 'pear'),\n",
       "       ( 8,  30.,  40., 'M',  0.75      , 'pear'),\n",
       "       ( 9,  30.,  37., 'M',  0.81081081, 'pear'),\n",
       "       (10,  32.,  39., 'M',  0.82051282, 'pear'),\n",
       "       (11,  24.,  35., 'F',  0.68571429, 'pear'),\n",
       "       (12,  25.,  37., 'F',  0.67567568, 'pear'),\n",
       "       (13,  24.,  37., 'F',  0.64864865, 'pear'),\n",
       "       (14,  22.,  34., 'F',  0.64705882, 'pear'),\n",
       "       (15,  26.,  38., 'F',  0.68421053, 'pear'),\n",
       "       (16,  26.,  37., 'F',  0.7027027 , 'pear'),\n",
       "       (17,  25.,  38., 'F',  0.65789474, 'pear'),\n",
       "       (18,  26.,  37., 'F',  0.7027027 , 'pear'),\n",
       "       (19,  28.,  40., 'F',  0.7       , 'pear'),\n",
       "       (20,  23.,  35., 'F',  0.65714286, 'pear')], \n",
       "      dtype=[('ID', '<i4'), ('Waist', '<f8'), ('Hip', '<f8'), ('Gender', '<U5'), ('W2H_Ratio', '<f8'), ('Shape', '<U5')])"
      ]
     },
     "execution_count": 50,
     "metadata": {},
     "output_type": "execute_result"
    }
   ],
   "source": [
    "W2H_Ratio=rows['Waist']/rows['Hip']\n",
    "np_Gender=np.array(rows['Gender'])\n",
    "\n",
    "cond1=np.logical_and((W2H_Ratio>0.9),np_Gender=='M')\n",
    "cond2=np.logical_and((W2H_Ratio>0.8),np_Gender=='F')\n",
    "Apple=np.logical_or(cond1,cond2)\n",
    "Shape=np.where(Apple,'Apple','pear')\n",
    "# The code below creates a new results array\n",
    "dt=np.dtype(rows.dtype.descr+[('W2H_Ratio',float),('Shape','U5')])\n",
    "results=np.zeros(rows.shape, dtype=dt)\n",
    "for c in rows.dtype.names:\n",
    "    results[c]=rows[c]\n",
    "results['W2H_Ratio']=W2H_Ratio\n",
    "results['Shape']=Shape\n",
    "\n",
    "results\n"
   ]
  },
  {
   "cell_type": "markdown",
   "metadata": {},
   "source": [
    "## Output"
   ]
  },
  {
   "cell_type": "code",
   "execution_count": 61,
   "metadata": {},
   "outputs": [
    {
     "data": {
      "text/html": [
       "<table><tr><th>ID</th><th>Waist</th><th>Hip</th><th>Gender</th><th>W2H_Ratio</th><th>Shape</th></tr><tr><td>1</td><td>30.0</td><td>32.0</td><td>M</td><td>0.9375</td><td>Apple</td></tr><tr><td>2</td><td>32.0</td><td>37.0</td><td>M</td><td>0.864864864865</td><td>pear</td></tr><tr><td>3</td><td>30.0</td><td>36.0</td><td>M</td><td>0.833333333333</td><td>pear</td></tr><tr><td>4</td><td>33.0</td><td>39.0</td><td>M</td><td>0.846153846154</td><td>pear</td></tr><tr><td>5</td><td>29.0</td><td>33.0</td><td>M</td><td>0.878787878788</td><td>pear</td></tr><tr><td>6</td><td>32.0</td><td>38.0</td><td>M</td><td>0.842105263158</td><td>pear</td></tr><tr><td>7</td><td>33.0</td><td>42.0</td><td>M</td><td>0.785714285714</td><td>pear</td></tr><tr><td>8</td><td>30.0</td><td>40.0</td><td>M</td><td>0.75</td><td>pear</td></tr><tr><td>9</td><td>30.0</td><td>37.0</td><td>M</td><td>0.810810810811</td><td>pear</td></tr><tr><td>10</td><td>32.0</td><td>39.0</td><td>M</td><td>0.820512820513</td><td>pear</td></tr><tr><td>11</td><td>24.0</td><td>35.0</td><td>F</td><td>0.685714285714</td><td>pear</td></tr><tr><td>12</td><td>25.0</td><td>37.0</td><td>F</td><td>0.675675675676</td><td>pear</td></tr><tr><td>13</td><td>24.0</td><td>37.0</td><td>F</td><td>0.648648648649</td><td>pear</td></tr><tr><td>14</td><td>22.0</td><td>34.0</td><td>F</td><td>0.647058823529</td><td>pear</td></tr><tr><td>15</td><td>26.0</td><td>38.0</td><td>F</td><td>0.684210526316</td><td>pear</td></tr><tr><td>16</td><td>26.0</td><td>37.0</td><td>F</td><td>0.702702702703</td><td>pear</td></tr><tr><td>17</td><td>25.0</td><td>38.0</td><td>F</td><td>0.657894736842</td><td>pear</td></tr><tr><td>18</td><td>26.0</td><td>37.0</td><td>F</td><td>0.702702702703</td><td>pear</td></tr><tr><td>19</td><td>28.0</td><td>40.0</td><td>F</td><td>0.7</td><td>pear</td></tr><tr><td>20</td><td>23.0</td><td>35.0</td><td>F</td><td>0.657142857143</td><td>pear</td></tr></table>"
      ],
      "text/plain": [
       "<IPython.core.display.HTML object>"
      ]
     },
     "metadata": {},
     "output_type": "display_data"
    },
    {
     "data": {
      "text/plain": [
       "array([( 1,  30.,  32., 'M',  0.9375    , 'Apple'),\n",
       "       ( 2,  32.,  37., 'M',  0.86486486, 'pear'),\n",
       "       ( 3,  30.,  36., 'M',  0.83333333, 'pear'),\n",
       "       ( 4,  33.,  39., 'M',  0.84615385, 'pear'),\n",
       "       ( 5,  29.,  33., 'M',  0.87878788, 'pear'),\n",
       "       ( 6,  32.,  38., 'M',  0.84210526, 'pear'),\n",
       "       ( 7,  33.,  42., 'M',  0.78571429, 'pear'),\n",
       "       ( 8,  30.,  40., 'M',  0.75      , 'pear'),\n",
       "       ( 9,  30.,  37., 'M',  0.81081081, 'pear'),\n",
       "       (10,  32.,  39., 'M',  0.82051282, 'pear'),\n",
       "       (11,  24.,  35., 'F',  0.68571429, 'pear'),\n",
       "       (12,  25.,  37., 'F',  0.67567568, 'pear'),\n",
       "       (13,  24.,  37., 'F',  0.64864865, 'pear'),\n",
       "       (14,  22.,  34., 'F',  0.64705882, 'pear'),\n",
       "       (15,  26.,  38., 'F',  0.68421053, 'pear'),\n",
       "       (16,  26.,  37., 'F',  0.7027027 , 'pear'),\n",
       "       (17,  25.,  38., 'F',  0.65789474, 'pear'),\n",
       "       (18,  26.,  37., 'F',  0.7027027 , 'pear'),\n",
       "       (19,  28.,  40., 'F',  0.7       , 'pear'),\n",
       "       (20,  23.,  35., 'F',  0.65714286, 'pear')], \n",
       "      dtype=[('ID', '<i4'), ('Waist', '<f8'), ('Hip', '<f8'), ('Gender', '<U5'), ('W2H_Ratio', '<f8'), ('Shape', '<U5')])"
      ]
     },
     "execution_count": 61,
     "metadata": {},
     "output_type": "execute_result"
    }
   ],
   "source": [
    "# Note: this works, but we can do this much better with pandas\n",
    "html_table = '<table><tr><th>'\n",
    "html_table += \"</th><th>\".join(results.dtype.names)\n",
    "html_table += '</th></tr>'\n",
    "for row in results:\n",
    "    html_table += \"<tr><td>\"\n",
    "    html_table += \"</td><td>\".join(str(v) for v in row)\n",
    "    html_table += \"</td></tr>\"\n",
    "html_table += \"</table>\"\n",
    "\n",
    "from IPython.display import HTML, display\n",
    "display(HTML(html_table))\n",
    "\n",
    "\n",
    "\n",
    "np.savetxt(\"StatsResults.csv\",results,fmt='%s',delimiter=',', header=','.join(results.dtype.names),comments=\"\")\n",
    "results[:]"
   ]
  },
  {
   "cell_type": "code",
   "execution_count": null,
   "metadata": {},
   "outputs": [],
   "source": []
  },
  {
   "cell_type": "code",
   "execution_count": null,
   "metadata": {
    "collapsed": true
   },
   "outputs": [],
   "source": []
  }
 ],
 "metadata": {
  "kernelspec": {
   "display_name": "Python 3",
   "language": "python",
   "name": "python3"
  },
  "language_info": {
   "codemirror_mode": {
    "name": "ipython",
    "version": 3
   },
   "file_extension": ".py",
   "mimetype": "text/x-python",
   "name": "python",
   "nbconvert_exporter": "python",
   "pygments_lexer": "ipython3",
   "version": "3.6.1"
  }
 },
 "nbformat": 4,
 "nbformat_minor": 2
}
